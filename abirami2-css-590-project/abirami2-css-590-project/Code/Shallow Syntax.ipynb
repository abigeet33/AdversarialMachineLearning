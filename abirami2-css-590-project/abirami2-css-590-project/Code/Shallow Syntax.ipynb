{
 "cells": [
  {
   "cell_type": "code",
   "execution_count": 116,
   "metadata": {
    "collapsed": false
   },
   "outputs": [],
   "source": [
    "import pandas as pd \n",
    "import numpy as np\n",
    "from pandas import pivot_table\n",
    "train = pd.read_csv(\"data/FakeNews_Training_Set.csv\", header=0, delimiter=\",\")\n",
    "test = pd.read_csv(\"data/FakeNews_Test_Set.csv\", header=0, delimiter=\",\")\n",
    "label_mapping = {\n",
    "           'REAL': 1,\n",
    "           'FAKE': 0}\n",
    "\n",
    "train['label'] = train['label'].map(label_mapping)\n",
    "test['label'] = test['label'].map(label_mapping)"
   ]
  },
  {
   "cell_type": "code",
   "execution_count": 117,
   "metadata": {
    "collapsed": false
   },
   "outputs": [],
   "source": [
    "import nltk\n",
    "from nltk.corpus import state_union\n",
    "from nltk.tokenize import PunktSentenceTokenizer,sent_tokenize,word_tokenize\n",
    "import re"
   ]
  },
  {
   "cell_type": "code",
   "execution_count": 118,
   "metadata": {
    "collapsed": false
   },
   "outputs": [],
   "source": [
    "def process_content(sentListTrain):\n",
    "    try:\n",
    "        tokenized_sents = [word_tokenize(i) for i in sentListTrain]\n",
    "        for i in tokenized_sents:\n",
    "            tagged=nltk.pos_tag(i)\n",
    "            mytaggedList.insert(count+1,tagged)            \n",
    "\n",
    "    except Exception as e:\n",
    "        print(str(e))\n",
    "    return mytaggedList"
   ]
  },
  {
   "cell_type": "code",
   "execution_count": 119,
   "metadata": {
    "collapsed": false
   },
   "outputs": [],
   "source": [
    "def pivot_postags(modelDF):\n",
    "\n",
    "    overall_pos_tags = pd.DataFrame(['postag','totcount','sno'])\n",
    "\n",
    "    for index, row in modelDF.iterrows():\n",
    "        if index < 50:\n",
    "            twlist=[]\n",
    "            sentListTrain =  sent_tokenize(row['text'])\n",
    "            for sent in sentListTrain:\n",
    "                #print (sent)\n",
    "                #recvListTrain = process_content(sent)\n",
    "                words= word_tokenize(sent)\n",
    "                recvListTrain=nltk.pos_tag(words)\n",
    "                for wlist in recvListTrain:\n",
    "                    twlist.append(wlist[1])\n",
    "\n",
    "\n",
    "            df = pd.DataFrame({'postag': twlist})\n",
    "            counts_df = pd.DataFrame(df.groupby('postag').size().rename('totcount'))\n",
    "            counts_df['sno']=row['sno']\n",
    "\n",
    "            #overall_pos_tags.append(counts_df,ignore_index=False)\n",
    "\n",
    "            #print (counts_df)\n",
    "\n",
    "            frames = [counts_df, overall_pos_tags]\n",
    "            overall_pos_tags = pd.concat(frames)\n",
    "\n",
    "    overall_pos_tags['postags'] = overall_pos_tags.index\n",
    "    pivot_postags=overall_pos_tags.pivot(index='sno', columns='postags', values='totcount').fillna(value=0)\n",
    "    pivot_postags['sno'] = pivot_postags.index\n",
    "    postags_merged=pivot_postags.join(train[['sno','label']], on='sno', how='inner', rsuffix='_1', sort=False)\n",
    "\n",
    "    return postags_merged"
   ]
  },
  {
   "cell_type": "code",
   "execution_count": 122,
   "metadata": {
    "collapsed": false
   },
   "outputs": [
    {
     "name": "stdout",
     "output_type": "stream",
     "text": [
      "Training data to Extract and Pivot\n"
     ]
    },
    {
     "name": "stderr",
     "output_type": "stream",
     "text": [
      "C:\\Users\\abira\\Anaconda3\\lib\\site-packages\\pandas\\indexes\\api.py:71: RuntimeWarning: '<' not supported between instances of 'str' and 'int', sort order is undefined for incomparable objects\n",
      "  result = result.union(other)\n"
     ]
    },
    {
     "name": "stdout",
     "output_type": "stream",
     "text": [
      "Training model\n",
      "          0    1    2    #     $    ''    (    )      ,      .  ...     VBP  \\\n",
      "sno                                                             ...           \n",
      "51.0    0.0  0.0  0.0  0.0   3.0   0.0  1.0  1.0   13.0   19.0  ...     2.0   \n",
      "71.0    0.0  0.0  0.0  0.0   0.0  19.0  0.0  0.0   52.0   35.0  ...    14.0   \n",
      "95.0    0.0  0.0  0.0  0.0   0.0   0.0  1.0  1.0    6.0    5.0  ...     0.0   \n",
      "127.0   0.0  0.0  0.0  0.0   0.0  18.0  2.0  2.0   51.0   54.0  ...    17.0   \n",
      "139.0   0.0  0.0  0.0  1.0   0.0   1.0  0.0  0.0   65.0   50.0  ...    19.0   \n",
      "143.0   0.0  0.0  0.0  0.0   0.0   5.0  0.0  0.0   38.0   42.0  ...    33.0   \n",
      "172.0   0.0  0.0  0.0  0.0   0.0   0.0  1.0  1.0    2.0    1.0  ...     1.0   \n",
      "186.0   0.0  0.0  0.0  0.0   0.0   9.0  0.0  0.0   24.0   21.0  ...    15.0   \n",
      "384.0   0.0  0.0  0.0  0.0   0.0   0.0  0.0  0.0    0.0    1.0  ...     0.0   \n",
      "421.0   0.0  0.0  0.0  0.0   0.0   6.0  1.0  1.0   13.0   17.0  ...     3.0   \n",
      "431.0   0.0  0.0  0.0  0.0   0.0  11.0  0.0  0.0   26.0   28.0  ...     3.0   \n",
      "587.0   0.0  0.0  0.0  0.0   0.0   0.0  0.0  0.0    0.0    1.0  ...     0.0   \n",
      "596.0   0.0  0.0  0.0  0.0   0.0   0.0  0.0  0.0   56.0   52.0  ...    30.0   \n",
      "599.0   0.0  0.0  0.0  2.0   9.0   7.0  1.0  1.0   40.0   57.0  ...    22.0   \n",
      "626.0   0.0  0.0  0.0  0.0   0.0   0.0  1.0  1.0   21.0   12.0  ...     9.0   \n",
      "636.0   0.0  0.0  0.0  0.0   0.0  18.0  2.0  2.0   52.0   48.0  ...    32.0   \n",
      "658.0   0.0  0.0  0.0  0.0   0.0  20.0  0.0  0.0   76.0   66.0  ...    28.0   \n",
      "667.0   0.0  0.0  0.0  0.0  14.0   0.0  2.0  2.0  166.0  133.0  ...    50.0   \n",
      "677.0   0.0  0.0  0.0  0.0   0.0   1.0  0.0  0.0   10.0   13.0  ...     4.0   \n",
      "691.0   0.0  0.0  0.0  0.0   0.0   0.0  1.0  1.0   26.0   33.0  ...    11.0   \n",
      "755.0   0.0  0.0  0.0  0.0   0.0   6.0  0.0  0.0   26.0   18.0  ...     9.0   \n",
      "778.0   0.0  0.0  0.0  0.0   0.0   1.0  0.0  0.0   41.0   30.0  ...    14.0   \n",
      "875.0   0.0  0.0  0.0  0.0   0.0   4.0  0.0  0.0   17.0   21.0  ...    16.0   \n",
      "909.0   0.0  0.0  0.0  0.0   0.0   1.0  2.0  2.0   71.0   59.0  ...    42.0   \n",
      "917.0   0.0  0.0  0.0  0.0   0.0   0.0  0.0  0.0    4.0    3.0  ...     1.0   \n",
      "930.0   0.0  0.0  0.0  0.0   2.0  10.0  1.0  1.0   55.0   45.0  ...    23.0   \n",
      "988.0   0.0  0.0  0.0  0.0   0.0   0.0  1.0  1.0   23.0   13.0  ...     8.0   \n",
      "1084.0  0.0  0.0  0.0  0.0   0.0   0.0  0.0  0.0   52.0   44.0  ...    21.0   \n",
      "1108.0  0.0  0.0  0.0  0.0   0.0  33.0  4.0  4.0   73.0   67.0  ...    32.0   \n",
      "1178.0  0.0  0.0  0.0  0.0   1.0   1.0  0.0  0.0    9.0    9.0  ...     5.0   \n",
      "1255.0  0.0  0.0  0.0  0.0   2.0   0.0  2.0  2.0   41.0   33.0  ...     9.0   \n",
      "1329.0  0.0  0.0  0.0  0.0   0.0   0.0  0.0  0.0    1.0    1.0  ...     1.0   \n",
      "1357.0  0.0  0.0  0.0  0.0   0.0   7.0  0.0  0.0   45.0   33.0  ...    15.0   \n",
      "1360.0  0.0  0.0  0.0  0.0   0.0  12.0  0.0  0.0   26.0   32.0  ...     8.0   \n",
      "1475.0  0.0  0.0  0.0  0.0   0.0   3.0  0.0  0.0   37.0   38.0  ...    14.0   \n",
      "1506.0  0.0  0.0  0.0  0.0   0.0   4.0  0.0  0.0   10.0   14.0  ...     2.0   \n",
      "1522.0  0.0  0.0  0.0  0.0   2.0  15.0  0.0  0.0   21.0   31.0  ...    16.0   \n",
      "1524.0  0.0  0.0  0.0  0.0   1.0   0.0  0.0  0.0   54.0   54.0  ...    13.0   \n",
      "1569.0  0.0  0.0  0.0  1.0   0.0  19.0  0.0  0.0   67.0   47.0  ...    14.0   \n",
      "1571.0  0.0  0.0  0.0  0.0   0.0   0.0  0.0  0.0    1.0    1.0  ...     1.0   \n",
      "1641.0  0.0  0.0  0.0  0.0   1.0   0.0  0.0  0.0   62.0   47.0  ...    25.0   \n",
      "1661.0  0.0  0.0  0.0  0.0   0.0   0.0  0.0  0.0    1.0    1.0  ...     1.0   \n",
      "1700.0  0.0  0.0  0.0  0.0   0.0   0.0  2.0  2.0   72.0   67.0  ...    22.0   \n",
      "1718.0  0.0  0.0  0.0  0.0   0.0   0.0  2.0  2.0   32.0   33.0  ...    13.0   \n",
      "1770.0  0.0  0.0  0.0  0.0   0.0   0.0  0.0  0.0    3.0    0.0  ...     0.0   \n",
      "1775.0  0.0  0.0  0.0  0.0   0.0   0.0  1.0  1.0   20.0   23.0  ...     4.0   \n",
      "1787.0  0.0  0.0  0.0  0.0   0.0   0.0  0.0  0.0    3.0    0.0  ...     0.0   \n",
      "1834.0  0.0  0.0  0.0  0.0   0.0   0.0  0.0  0.0    3.0    0.0  ...     0.0   \n",
      "1884.0  0.0  0.0  0.0  0.0   0.0   1.0  2.0  2.0   17.0   36.0  ...    19.0   \n",
      "1934.0  0.0  0.0  0.0  0.0   2.0   0.0  1.0  1.0   68.0   43.0  ...    24.0   \n",
      "\n",
      "         VBZ   WDT    WP  WP$   WRB    ``     sno  sno_1  label  \n",
      "sno                                                              \n",
      "51.0     5.0   3.0   3.0  0.0   5.0   0.0    51.0   1967      1  \n",
      "71.0     9.0   0.0  11.0  0.0   5.0  19.0    71.0   2916      1  \n",
      "95.0     1.0   0.0   1.0  0.0   0.0   0.0    95.0   3700      1  \n",
      "127.0   21.0   5.0   2.0  0.0   5.0  19.0   127.0   4943      1  \n",
      "139.0   12.0   5.0  11.0  0.0   8.0   0.0   139.0   5743      0  \n",
      "143.0   54.0   7.0  14.0  0.0   5.0   5.0   143.0   5955      0  \n",
      "172.0    1.0   0.0   0.0  0.0   0.0   0.0   172.0   7099      0  \n",
      "186.0   14.0   6.0   6.0  0.0   1.0   9.0   186.0   7623      0  \n",
      "384.0    1.0   0.0   1.0  0.0   0.0   0.0   384.0   3226      1  \n",
      "421.0    8.0   1.0   4.0  0.0   2.0   6.0   421.0    162      1  \n",
      "431.0   15.0   2.0   0.0  0.0   1.0   9.0   431.0   6329      0  \n",
      "587.0    0.0   0.0   0.0  0.0   0.0   0.0   587.0  10130      0  \n",
      "596.0   38.0   6.0  12.0  0.0  12.0   0.0   596.0   6814      0  \n",
      "599.0   30.0   8.0   5.0  0.0   0.0   7.0   599.0    868      1  \n",
      "626.0    9.0   3.0   3.0  0.0   1.0   0.0   626.0   1883      1  \n",
      "636.0   38.0  11.0   9.0  0.0   4.0  18.0   636.0   1424      1  \n",
      "658.0   33.0   6.0  13.0  1.0   4.0  18.0   658.0   9189      0  \n",
      "667.0   34.0  12.0  11.0  1.0  11.0   0.0   667.0    462      1  \n",
      "677.0    6.0   0.0   1.0  0.0   1.0   1.0   677.0   5134      1  \n",
      "691.0   34.0   1.0   6.0  0.0  10.0   0.0   691.0   9364      0  \n",
      "755.0   12.0   1.0   1.0  0.0   1.0   6.0   755.0   8956      0  \n",
      "778.0   17.0   5.0   6.0  0.0   4.0   0.0   778.0    497      1  \n",
      "875.0   10.0   0.0   0.0  0.0   1.0   4.0   875.0   5590      0  \n",
      "909.0   44.0   6.0  14.0  0.0   7.0   0.0   909.0    736      1  \n",
      "917.0    2.0   0.0   0.0  0.0   1.0   0.0   917.0    849      1  \n",
      "930.0   42.0   7.0   9.0  0.0   7.0  10.0   930.0   7210      0  \n",
      "988.0    2.0   2.0   1.0  0.0   0.0   0.0   988.0   5606      0  \n",
      "1084.0  17.0   6.0   6.0  0.0   6.0   0.0  1084.0   2995      1  \n",
      "1108.0  38.0   8.0  12.0  0.0   3.0  33.0  1108.0   2434      1  \n",
      "1178.0   6.0   0.0   3.0  0.0   0.0   1.0  1178.0   4292      1  \n",
      "1255.0  15.0   5.0   5.0  0.0   1.0   0.0  1255.0   9185      0  \n",
      "1329.0   0.0   0.0   0.0  0.0   0.0   0.0  1329.0   9261      0  \n",
      "1357.0  19.0   4.0   5.0  0.0   0.0   6.0  1357.0     74      1  \n",
      "1360.0  12.0   0.0   3.0  0.0   0.0  12.0  1360.0   3339      1  \n",
      "1475.0  52.0   7.0   6.0  1.0   8.0   3.0  1475.0   8632      0  \n",
      "1506.0  14.0   0.0   4.0  0.0   1.0   4.0  1506.0   3994      1  \n",
      "1522.0  19.0   2.0   5.0  0.0   0.0  14.0  1522.0   8084      0  \n",
      "1524.0  23.0  13.0   7.0  0.0   1.0   0.0  1524.0   5385      0  \n",
      "1569.0  45.0   7.0   9.0  0.0   6.0  19.0  1569.0   6031      0  \n",
      "1571.0   0.0   0.0   0.0  0.0   0.0   0.0  1571.0   5170      1  \n",
      "1641.0  31.0   4.0  14.0  0.0   6.0   0.0  1641.0   3019      1  \n",
      "1661.0   0.0   0.0   0.0  0.0   0.0   0.0  1661.0   2126      1  \n",
      "1700.0  63.0   9.0  13.0  0.0   5.0   0.0  1700.0   7339      0  \n",
      "1718.0  32.0   3.0   5.0  0.0   4.0   0.0  1718.0   8215      0  \n",
      "1770.0   0.0   0.0   0.0  0.0   0.0   0.0  1770.0   5098      1  \n",
      "1775.0  24.0   2.0   5.0  0.0   2.0   0.0  1775.0   4871      1  \n",
      "1787.0   0.0   0.0   0.0  0.0   0.0   0.0  1787.0    433      1  \n",
      "1834.0   0.0   0.0   0.0  0.0   0.0   0.0  1834.0   9120      0  \n",
      "1884.0  29.0   4.0   6.0  0.0   1.0   1.0  1884.0   4516      1  \n",
      "1934.0  43.0   5.0  11.0  0.0   5.0   0.0  1934.0   3933      1  \n",
      "\n",
      "[50 rows x 49 columns]\n",
      "Tesing data to Extract and Pivot\n"
     ]
    },
    {
     "name": "stderr",
     "output_type": "stream",
     "text": [
      "C:\\Users\\abira\\Anaconda3\\lib\\site-packages\\pandas\\indexes\\api.py:71: RuntimeWarning: '<' not supported between instances of 'str' and 'int', sort order is undefined for incomparable objects\n",
      "  result = result.union(other)\n"
     ]
    },
    {
     "name": "stdout",
     "output_type": "stream",
     "text": [
      "Model Prediction started\n",
      "          0    1    2    #    $    ''    (    )     ,     .  ...     VBP  \\\n",
      "sno                                                          ...           \n",
      "470.0   0.0  0.0  0.0  0.0  0.0  15.0  4.0  4.0  43.0  36.0  ...    36.0   \n",
      "480.0   0.0  0.0  0.0  0.0  0.0   3.0  0.0  0.0  22.0  19.0  ...     6.0   \n",
      "557.0   0.0  0.0  0.0  0.0  0.0   5.0  2.0  2.0  49.0  52.0  ...    18.0   \n",
      "629.0   0.0  0.0  0.0  0.0  0.0   1.0  0.0  0.0   1.0   1.0  ...     0.0   \n",
      "642.0   0.0  0.0  0.0  0.0  0.0   1.0  0.0  0.0   1.0   1.0  ...     0.0   \n",
      "660.0   0.0  0.0  0.0  0.0  0.0   0.0  3.0  3.0  94.0  67.0  ...    40.0   \n",
      "1243.0  0.0  0.0  0.0  0.0  0.0  17.0  1.0  1.0  33.0  31.0  ...     9.0   \n",
      "1442.0  0.0  0.0  0.0  0.0  0.0   1.0  0.0  0.0   3.0   4.0  ...     2.0   \n",
      "1928.0  0.0  0.0  0.0  0.0  0.0  10.0  0.0  0.0  52.0  37.0  ...    13.0   \n",
      "2165.0  0.0  0.0  0.0  0.0  0.0   0.0  0.0  0.0   2.0   1.0  ...     0.0   \n",
      "2491.0  0.0  0.0  0.0  0.0  1.0   0.0  1.0  1.0  49.0  55.0  ...    27.0   \n",
      "2659.0  0.0  0.0  0.0  0.0  0.0   2.0  1.0  1.0  21.0  22.0  ...     3.0   \n",
      "2986.0  0.0  0.0  0.0  0.0  0.0   0.0  1.0  1.0   3.0   1.0  ...     2.0   \n",
      "3199.0  0.0  0.0  0.0  0.0  0.0   4.0  0.0  0.0  31.0  21.0  ...     3.0   \n",
      "3298.0  0.0  0.0  0.0  0.0  0.0   0.0  8.0  8.0  60.0  49.0  ...    38.0   \n",
      "3735.0  0.0  0.0  0.0  0.0  1.0  19.0  2.0  2.0  76.0  56.0  ...    17.0   \n",
      "4153.0  0.0  0.0  0.0  0.0  1.0   0.0  0.0  0.0   6.0   4.0  ...     5.0   \n",
      "4309.0  0.0  0.0  0.0  0.0  0.0   3.0  0.0  0.0  26.0  14.0  ...     1.0   \n",
      "4575.0  0.0  0.0  0.0  4.0  0.0   7.0  0.0  0.0  31.0  29.0  ...    18.0   \n",
      "4846.0  0.0  0.0  0.0  0.0  0.0   5.0  0.0  0.0  62.0  37.0  ...    28.0   \n",
      "\n",
      "         VBZ   WDT    WP  WP$  WRB    ``     sno  sno_1  label  \n",
      "sno                                                             \n",
      "470.0   32.0   1.0  10.0  1.0  8.0  13.0   470.0   1786      1  \n",
      "480.0    7.0   2.0   0.0  0.0  2.0   3.0   480.0   2376      1  \n",
      "557.0   30.0   3.0   9.0  0.0  3.0   5.0   557.0    188      1  \n",
      "629.0    0.0   0.0   0.0  0.0  0.0   1.0   629.0   5190      1  \n",
      "642.0    0.0   0.0   0.0  0.0  0.0   1.0   642.0   6787      0  \n",
      "660.0   40.0   7.0  13.0  0.0  7.0   0.0   660.0   5401      0  \n",
      "1243.0  14.0   1.0   3.0  0.0  1.0  17.0  1243.0     30      1  \n",
      "1442.0   2.0   1.0   1.0  0.0  1.0   1.0  1442.0    967      1  \n",
      "1928.0  22.0   4.0   4.0  0.0  1.0  10.0  1928.0   9682      0  \n",
      "2165.0   0.0   0.0   0.0  0.0  0.0   0.0  2165.0  10499      0  \n",
      "2491.0  24.0   9.0  12.0  1.0  0.0   0.0  2491.0   1631      1  \n",
      "2659.0  17.0   2.0   0.0  0.0  0.0   2.0  2659.0   2858      1  \n",
      "2986.0   1.0   1.0   1.0  0.0  0.0   0.0  2986.0   3509      1  \n",
      "3199.0   8.0   2.0   1.0  0.0  0.0   4.0  3199.0   1922      1  \n",
      "3298.0  33.0  16.0   4.0  1.0  5.0   0.0  3298.0   5646      0  \n",
      "3735.0  15.0   5.0   6.0  0.0  2.0  20.0  3735.0   1961      1  \n",
      "4153.0   4.0   1.0   1.0  0.0  0.0   0.0  4153.0   8166      0  \n",
      "4309.0  10.0   0.0   2.0  1.0  1.0   4.0  4309.0   3507      1  \n",
      "4575.0   8.0   5.0   3.0  0.0  1.0   7.0  4575.0   7466      0  \n",
      "4846.0  42.0   5.0   8.0  1.0  4.0   2.0  4846.0   6884      0  \n",
      "\n",
      "[20 rows x 49 columns]\n"
     ]
    }
   ],
   "source": [
    "from sklearn.ensemble import RandomForestClassifier\n",
    "\n",
    "# Initialize a Random Forest classifier with 100 trees\n",
    "forest = RandomForestClassifier(n_estimators = 100) \n",
    "\n",
    "# Fit the forest to the training set, using the bag of words as \n",
    "# features and the sentiment labels as the response variable\n",
    "#\n",
    "# This may take a few minutes to run\n",
    "\n",
    "\n",
    "print ('Training data to Extract and Pivot')\n",
    "\n",
    "postags_merged = pivot_postags(train)\n",
    "#postags_merged = postags_merged.drop(['sno', 'sno_1'], axis=1)\n",
    "\n",
    "print ('Training model')\n",
    "\n",
    "print ( postags_merged )\n",
    "\n",
    "forest = forest.fit( postags_merged.drop(['label','sno','sno_1'], axis=1), postags_merged[\"label\"] )\n",
    "\n",
    "print ('Tesing data to Extract and Pivot')\n",
    "\n",
    "test_postags_merged = pivot_postags(test)\n",
    "#test_postags_merged = test_postags_merged.drop(['sno', 'sno_1'], axis=1)\n",
    "\n",
    "print ('Model Prediction started')\n",
    "\n",
    "print ( test_postags_merged )\n",
    "\n",
    "# Use the random forest to make sentiment label predictions\n",
    "result = forest.predict(test_postags_merged.drop(['label', 'sno','sno_1'], axis=1))\n",
    "\n"
   ]
  },
  {
   "cell_type": "code",
   "execution_count": 121,
   "metadata": {
    "collapsed": false,
    "scrolled": true
   },
   "outputs": [
    {
     "data": {
      "text/plain": [
       "0.55000000000000004"
      ]
     },
     "execution_count": 121,
     "metadata": {},
     "output_type": "execute_result"
    }
   ],
   "source": [
    "from sklearn.metrics import confusion_matrix,accuracy_score\n",
    "confusion_matrix(test_postags_merged['label'], result)\n",
    "accuracy_score(test_postags_merged['label'], result)"
   ]
  },
  {
   "cell_type": "code",
   "execution_count": null,
   "metadata": {
    "collapsed": true
   },
   "outputs": [],
   "source": []
  }
 ],
 "metadata": {
  "kernelspec": {
   "display_name": "Python 3",
   "language": "python",
   "name": "python3"
  },
  "language_info": {
   "codemirror_mode": {
    "name": "ipython",
    "version": 3
   },
   "file_extension": ".py",
   "mimetype": "text/x-python",
   "name": "python",
   "nbconvert_exporter": "python",
   "pygments_lexer": "ipython3",
   "version": "3.6.0"
  }
 },
 "nbformat": 4,
 "nbformat_minor": 2
}
